{
 "cells": [
  {
   "cell_type": "code",
   "execution_count": 1,
   "id": "8c769093-a91f-46dc-85e0-01bc2c4858e3",
   "metadata": {},
   "outputs": [],
   "source": [
    "import cv2 as cv\n",
    "import numpy as np "
   ]
  },
  {
   "cell_type": "code",
   "execution_count": 3,
   "id": "22284b0e-1892-4cd7-bb0e-f36e5b908e6e",
   "metadata": {},
   "outputs": [],
   "source": [
    "img = cv.imread(\"./images/friends.jpg\")\n",
    "cv.imshow(\"Og\" , img)\n",
    "cv.waitKey(0)\n",
    "cv.destroyAllWindows()"
   ]
  },
  {
   "cell_type": "markdown",
   "id": "41e1b11f-88e2-4a91-8a55-2e562dfd4633",
   "metadata": {},
   "source": [
    "![image](images/pencil_sketch_flow.png)"
   ]
  },
  {
   "cell_type": "code",
   "execution_count": 6,
   "id": "8c46ad90-edac-45e0-9cf6-4832b5bfa30d",
   "metadata": {},
   "outputs": [],
   "source": [
    "#STEP 1 : CONVERT COLOR TO GRAYSCALE"
   ]
  },
  {
   "cell_type": "code",
   "execution_count": 10,
   "id": "8cb70943-4139-40b8-b9b9-1b9a13a9a09b",
   "metadata": {},
   "outputs": [],
   "source": [
    "gray = cv.cvtColor(img , cv.COLOR_BGR2GRAY)"
   ]
  },
  {
   "cell_type": "code",
   "execution_count": 12,
   "id": "571aab56-418f-4ba3-bfad-c7ae7c568c9b",
   "metadata": {},
   "outputs": [],
   "source": [
    "cv.imshow(\"Og\" , img)\n",
    "cv.imshow(\"grayscale img\" , gray)\n",
    "cv.waitKey(0)\n",
    "cv.destroyAllWindows()"
   ]
  },
  {
   "cell_type": "code",
   "execution_count": 14,
   "id": "2ba2f70d-2101-42f8-a0d7-ac4f27abc337",
   "metadata": {},
   "outputs": [],
   "source": [
    "#STEP 2 : APPLY GAUSSIAN BLUR"
   ]
  },
  {
   "cell_type": "code",
   "execution_count": 16,
   "id": "9f262dbd-76dd-4d92-9edc-909caf294604",
   "metadata": {},
   "outputs": [],
   "source": [
    "img_g = cv.GaussianBlur(gray , (5,5) , 3 )\n",
    "cv.imshow(\"Og\" , img)\n",
    "cv.imshow(\"grayscale img\" , gray)\n",
    "cv.imshow(\"Gaussian Blur img\" , img_g)\n",
    "cv.waitKey(0)\n",
    "cv.destroyAllWindows()"
   ]
  },
  {
   "cell_type": "code",
   "execution_count": 18,
   "id": "232d005f-180e-4c57-8d9c-36fcb671c239",
   "metadata": {},
   "outputs": [],
   "source": [
    "#STEP 3: DIVIDE GRAYSCALE AND GAUSSIAN BLIR IMG"
   ]
  },
  {
   "cell_type": "code",
   "execution_count": 18,
   "id": "4eda617c-2424-42f3-ac9e-8053aedff043",
   "metadata": {},
   "outputs": [
    {
     "data": {
      "text/plain": [
       "(667, 1000)"
      ]
     },
     "execution_count": 18,
     "metadata": {},
     "output_type": "execute_result"
    }
   ],
   "source": [
    "gray.shape"
   ]
  },
  {
   "cell_type": "code",
   "execution_count": 20,
   "id": "c38d9a76-44d8-4a7f-8027-8f32e9489032",
   "metadata": {},
   "outputs": [],
   "source": [
    "\n",
    "div_img = cv.divide(gray , img_g , scale=256)\n",
    "cv.imshow(\"Og\" , img)\n",
    "cv.imshow(\"grayscale img\" , gray)\n",
    "cv.imshow(\"Gaussian Blur img\" , img_g)\n",
    "cv.imshow(\"Division img\" , div_img)\n",
    "cv.waitKey(0)\n",
    "cv.destroyAllWindows()"
   ]
  },
  {
   "cell_type": "code",
   "execution_count": 22,
   "id": "b192fea9-1456-48e9-9ce0-cc30afef3573",
   "metadata": {},
   "outputs": [],
   "source": [
    "#STEP 4 : ADJUST GAMMA FACTOR"
   ]
  },
  {
   "cell_type": "code",
   "execution_count": 22,
   "id": "34d315c4-77c4-44b8-9ab4-ece8c29af6ec",
   "metadata": {},
   "outputs": [],
   "source": [
    "gamma = 0.1\n",
    "if gamma == 0 :\n",
    "    gamma = 0.01\n",
    "\n",
    "invgamma = 1/gamma\n",
    "#look-up table\n",
    "lut = np.array([((i/255)**invgamma)*255 for i in range (0,256) ] )\n",
    "pencil_sketch_img = cv.LUT(div_img.astype(\"uint8\"),lut.astype(\"uint8\") )"
   ]
  },
  {
   "cell_type": "code",
   "execution_count": 26,
   "id": "c7bc60bb-ca6c-493c-82c9-e3595e261ecf",
   "metadata": {},
   "outputs": [],
   "source": [
    "cv.imshow(\"Og\" , img)\n",
    "cv.imshow(\"Division img\" , div_img)\n",
    "cv.imshow(\"Pencil Sketch Image\" , pencil_sketch_img)\n",
    "cv.waitKey(0)\n",
    "cv.destroyAllWindows()"
   ]
  },
  {
   "cell_type": "code",
   "execution_count": 28,
   "id": "88ade0b0-8275-459d-bb0b-c283121eb6c4",
   "metadata": {},
   "outputs": [],
   "source": [
    "#PENCIL SKETCH FUNC"
   ]
  },
  {
   "cell_type": "code",
   "execution_count": 40,
   "id": "b492eeab-e71d-4ffd-95b3-5c582b44a0a2",
   "metadata": {},
   "outputs": [],
   "source": [
    "def pencil_sketch_maker (img,k_size,gamma): \n",
    "    gray = cv.cvtColor(img , cv.COLOR_BGR2GRAY)\n",
    "    \n",
    "    img_g = cv.GaussianBlur(gray , (k_size,k_size) , 0 )\n",
    "\n",
    "    \n",
    "    div_img = cv.divide(gray , img_g , scale=256)\n",
    "   \n",
    "    \n",
    "    \n",
    "    \n",
    "    if gamma == 0 :\n",
    "        gamma = 0.01\n",
    "\n",
    "    if gamma < 0 :\n",
    "        raise Exception(\"Cannot be negetive\" , \"Gamma cannot be less than 0 range(0-1)\")\n",
    "\n",
    "    if gamma > 1 :\n",
    "        raise Exception(\"Cannot be more than 1\" , \"Gamma cannot be more than 1 range(0-1)\")\n",
    "    \n",
    "    invgamma = 1/gamma\n",
    "    #look-up table\n",
    "    lut = np.array([((i/255)**invgamma)*255 for i in range (0,256) ] )\n",
    "    pencil_sketch_img = cv.LUT(div_img.astype(\"uint8\"),lut.astype(\"uint8\") )\n",
    "    return pencil_sketch_img\n",
    "    "
   ]
  },
  {
   "cell_type": "code",
   "execution_count": 42,
   "id": "e33a72b2-bbc0-4c15-899c-473101c7e23d",
   "metadata": {},
   "outputs": [],
   "source": [
    "pencil_sketch_byfunc = pencil_sketch_maker(img , 5 , 0.5)\n",
    "cv.imshow(\"Pencil Sketch Image\" , pencil_sketch_byfunc)\n",
    "cv.waitKey(0)\n",
    "cv.destroyAllWindows()"
   ]
  },
  {
   "cell_type": "code",
   "execution_count": 44,
   "id": "0e002953-2389-4e31-b214-cbe8d50d961a",
   "metadata": {},
   "outputs": [],
   "source": [
    "#Applying gamma correction amplifies light areas and boosts line sharpness, giving a clearer pencil-on-paper look."
   ]
  },
  {
   "cell_type": "code",
   "execution_count": 46,
   "id": "1f92a5c0-6f19-4bed-8a22-ddf7539db413",
   "metadata": {},
   "outputs": [],
   "source": [
    "#GUI FOR PENCIL SKETCH"
   ]
  },
  {
   "cell_type": "code",
   "execution_count": 48,
   "id": "6465f78b-1cd3-427a-8148-8190d6b970fd",
   "metadata": {},
   "outputs": [],
   "source": [
    "image = cv.imread(\"./images/friends.jpg\")\n"
   ]
  },
  {
   "cell_type": "code",
   "execution_count": 54,
   "id": "54841e3d-19ee-4640-9248-8ab3e3f2fb3e",
   "metadata": {},
   "outputs": [],
   "source": [
    "cv.namedWindow(\"Control Panel for Pencil Sketch\")\n",
    "cv.createTrackbar(\"k_size\" , \"Control Panel for Pencil Sketch\" , 1 , 100 ,(lambda x : None))\n",
    "cv.createTrackbar(\"gamma\" , \"Control Panel for Pencil Sketch\" , 0 , 100 ,(lambda x : None))\n",
    "\n",
    "while True :\n",
    "    #calibrate k_size to odd\n",
    "    k = cv.getTrackbarPos(\"k_size\" , \"Control Panel for Pencil Sketch\" )\n",
    "\n",
    "    k = 2*k + 1\n",
    "\n",
    "    #calibrate gamma between 0-1\n",
    "    g = cv.getTrackbarPos(\"gamma\" , \"Control Panel for Pencil Sketch\" )\n",
    "    g = g/100\n",
    "\n",
    "    pencil_s = pencil_sketch_maker(image,k,g)\n",
    "    \n",
    "    cv.imshow(\"Pencil Sketch By Func\" , pencil_s)\n",
    "    if cv.waitKey(1) == 27 :\n",
    "        break\n",
    "    \n",
    "    \n",
    "    \n",
    "cv.destroyAllWindows()"
   ]
  },
  {
   "cell_type": "code",
   "execution_count": null,
   "id": "18f7539e-e12f-46dc-bf17-63f8fab56bad",
   "metadata": {},
   "outputs": [],
   "source": []
  }
 ],
 "metadata": {
  "kernelspec": {
   "display_name": "Python 3 (ipykernel)",
   "language": "python",
   "name": "python3"
  },
  "language_info": {
   "codemirror_mode": {
    "name": "ipython",
    "version": 3
   },
   "file_extension": ".py",
   "mimetype": "text/x-python",
   "name": "python",
   "nbconvert_exporter": "python",
   "pygments_lexer": "ipython3",
   "version": "3.12.4"
  }
 },
 "nbformat": 4,
 "nbformat_minor": 5
}
